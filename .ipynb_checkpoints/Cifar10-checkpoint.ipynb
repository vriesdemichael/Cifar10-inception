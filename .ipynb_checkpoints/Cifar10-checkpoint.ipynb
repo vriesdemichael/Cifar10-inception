{
 "cells": [
  {
   "cell_type": "code",
   "execution_count": 148,
   "metadata": {},
   "outputs": [],
   "source": [
    "from keras.datasets import cifar10\n",
    "from keras.applications import InceptionResNetV2\n",
    "from keras.utils import np_utils\n",
    "from keras.callbacks import TensorBoard\n",
    "from keras.layers import Input, Dense, Conv2D, MaxPool2D, Concatenate, Flatten, GlobalAveragePooling2D, Dropout\n",
    "from keras.models import Model, load_model\n",
    "from keras.engine.topology import get_source_inputs\n",
    "\n",
    "import matplotlib.pyplot as plt\n",
    "from time import time\n"
   ]
  },
  {
   "cell_type": "markdown",
   "metadata": {},
   "source": [
    "## Load Cifar10 data"
   ]
  },
  {
   "cell_type": "code",
   "execution_count": 149,
   "metadata": {},
   "outputs": [],
   "source": [
    "(x_train, y_train), (x_test, y_test) = cifar10.load_data()\n",
    "x_train = x_train.astype('float32')/255\n",
    "x_test = x_test.astype('float32')/255\n",
    "y_train = np_utils.to_categorical(y_train)\n",
    "y_test = np_utils.to_categorical(y_test)"
   ]
  },
  {
   "cell_type": "markdown",
   "metadata": {},
   "source": [
    "## Network definition\n",
    "The network has a stem at the start, followed by multiple inception blocks.\n",
    "After the inception blocks a globalaverage is applied followed by a dense output layer."
   ]
  },
  {
   "cell_type": "code",
   "execution_count": 155,
   "metadata": {},
   "outputs": [],
   "source": [
    "def create_stem():\n",
    "    img_input = Input(shape=(32, 32, 3))\n",
    "    stem = Conv2D(32, 3, strides=2, padding=\"same\", name=\"stem-conv-1\")(img_input)\n",
    "    stem = Conv2D(32, 3, strides=1, padding=\"same\", name=\"stem-conv-2\")(stem)\n",
    "    stem = Conv2D(64, 3, strides=1, padding=\"same\", name=\"stem-conv-3\")(stem)\n",
    "    stem = MaxPool2D(3, strides=2)(stem)\n",
    "    stem = Conv2D(80, 1, padding=\"same\", name=\"stem-conv-4\")(stem)\n",
    "    stem = Conv2D(192, 3, padding=\"same\", name=\"stem-conv-5\")(stem)\n",
    "    stem = MaxPool2D(3, strides=2, name=\"stem-maxpool2\")(stem)\n",
    "    return stem, get_source_inputs(img_input)\n",
    "\n",
    "\n",
    "def get_flower(inceptions):\n",
    "    flower = GlobalAveragePooling2D(name=\"flower-globalaverage\")(inceptions)\n",
    "    flower = Dropout(0.2)(flower)\n",
    "    flower = Dense(10, activation=\"softmax\")(flower)\n",
    "    return flower\n",
    "    \n",
    "def add_inception(previous, count=1):\n",
    "    \n",
    "    # 1x1\n",
    "    branch1x1 = Conv2D(64, (1, 1), padding=\"same\", activation=\"relu\", name=\"inception-{}-1x1\".format(count))(previous)\n",
    "    \n",
    "    # 3x3\n",
    "    branch3x3 = Conv2D(64, (1, 1), padding=\"same\", activation=\"relu\", name=\"inception-{}-3x3-1\".format(count))(previous)\n",
    "    branch3x3 = Conv2D(64, (3, 3), padding=\"same\", activation=\"relu\", name=\"inception-{}-3x3-2\".format(count))(branch3x3)\n",
    "    \n",
    "    # 5x5\n",
    "    branch5x5 = Conv2D(48, (1, 1), padding=\"same\", activation=\"relu\", name=\"inception-{}-5x5-1\".format(count))(previous)\n",
    "    branch5x5 = Conv2D(64, (5, 5), padding=\"same\", activation=\"relu\", name=\"inception-{}-5x5-2\".format(count))(branch5x5)\n",
    "    \n",
    "    # 3x3 pooling\n",
    "    branch_pool = MaxPool2D((3, 3), strides=(1, 1), padding=\"same\", name=\"inception-{}-pool-1\".format(count))(previous)\n",
    "    branch_pool = Conv2D(64, (1, 1), padding=\"same\", activation=\"relu\", name=\"inception-{}-pool-2\".format(count))(branch_pool)\n",
    "    \n",
    "    next = Concatenate(axis=3, name=\"inception-{}-concat\".format(count))([branch1x1, branch3x3, branch5x5, branch_pool])\n",
    "    return next"
   ]
  },
  {
   "cell_type": "code",
   "execution_count": 161,
   "metadata": {},
   "outputs": [
    {
     "name": "stdout",
     "output_type": "stream",
     "text": [
      "__________________________________________________________________________________________________\n",
      "Layer (type)                    Output Shape         Param #     Connected to                     \n",
      "==================================================================================================\n",
      "input_43 (InputLayer)           (None, 32, 32, 3)    0                                            \n",
      "__________________________________________________________________________________________________\n",
      "stem-conv-1 (Conv2D)            (None, 16, 16, 32)   896         input_43[0][0]                   \n",
      "__________________________________________________________________________________________________\n",
      "stem-conv-2 (Conv2D)            (None, 16, 16, 32)   9248        stem-conv-1[0][0]                \n",
      "__________________________________________________________________________________________________\n",
      "stem-conv-3 (Conv2D)            (None, 16, 16, 64)   18496       stem-conv-2[0][0]                \n",
      "__________________________________________________________________________________________________\n",
      "max_pooling2d_66 (MaxPooling2D) (None, 7, 7, 64)     0           stem-conv-3[0][0]                \n",
      "__________________________________________________________________________________________________\n",
      "stem-conv-4 (Conv2D)            (None, 7, 7, 80)     5200        max_pooling2d_66[0][0]           \n",
      "__________________________________________________________________________________________________\n",
      "stem-conv-5 (Conv2D)            (None, 7, 7, 192)    138432      stem-conv-4[0][0]                \n",
      "__________________________________________________________________________________________________\n",
      "stem-maxpool2 (MaxPooling2D)    (None, 3, 3, 192)    0           stem-conv-5[0][0]                \n",
      "__________________________________________________________________________________________________\n",
      "inception-1-3x3-1 (Conv2D)      (None, 3, 3, 64)     12352       stem-maxpool2[0][0]              \n",
      "__________________________________________________________________________________________________\n",
      "inception-1-5x5-1 (Conv2D)      (None, 3, 3, 48)     9264        stem-maxpool2[0][0]              \n",
      "__________________________________________________________________________________________________\n",
      "inception-1-pool-1 (MaxPooling2 (None, 3, 3, 192)    0           stem-maxpool2[0][0]              \n",
      "__________________________________________________________________________________________________\n",
      "inception-1-1x1 (Conv2D)        (None, 3, 3, 64)     12352       stem-maxpool2[0][0]              \n",
      "__________________________________________________________________________________________________\n",
      "inception-1-3x3-2 (Conv2D)      (None, 3, 3, 64)     36928       inception-1-3x3-1[0][0]          \n",
      "__________________________________________________________________________________________________\n",
      "inception-1-5x5-2 (Conv2D)      (None, 3, 3, 64)     76864       inception-1-5x5-1[0][0]          \n",
      "__________________________________________________________________________________________________\n",
      "inception-1-pool-2 (Conv2D)     (None, 3, 3, 64)     12352       inception-1-pool-1[0][0]         \n",
      "__________________________________________________________________________________________________\n",
      "inception-1-concat (Concatenate (None, 3, 3, 256)    0           inception-1-1x1[0][0]            \n",
      "                                                                 inception-1-3x3-2[0][0]          \n",
      "                                                                 inception-1-5x5-2[0][0]          \n",
      "                                                                 inception-1-pool-2[0][0]         \n",
      "__________________________________________________________________________________________________\n",
      "inception-2-3x3-1 (Conv2D)      (None, 3, 3, 64)     16448       inception-1-concat[0][0]         \n",
      "__________________________________________________________________________________________________\n",
      "inception-2-5x5-1 (Conv2D)      (None, 3, 3, 48)     12336       inception-1-concat[0][0]         \n",
      "__________________________________________________________________________________________________\n",
      "inception-2-pool-1 (MaxPooling2 (None, 3, 3, 256)    0           inception-1-concat[0][0]         \n",
      "__________________________________________________________________________________________________\n",
      "inception-2-1x1 (Conv2D)        (None, 3, 3, 64)     16448       inception-1-concat[0][0]         \n",
      "__________________________________________________________________________________________________\n",
      "inception-2-3x3-2 (Conv2D)      (None, 3, 3, 64)     36928       inception-2-3x3-1[0][0]          \n",
      "__________________________________________________________________________________________________\n",
      "inception-2-5x5-2 (Conv2D)      (None, 3, 3, 64)     76864       inception-2-5x5-1[0][0]          \n",
      "__________________________________________________________________________________________________\n",
      "inception-2-pool-2 (Conv2D)     (None, 3, 3, 64)     16448       inception-2-pool-1[0][0]         \n",
      "__________________________________________________________________________________________________\n",
      "inception-2-concat (Concatenate (None, 3, 3, 256)    0           inception-2-1x1[0][0]            \n",
      "                                                                 inception-2-3x3-2[0][0]          \n",
      "                                                                 inception-2-5x5-2[0][0]          \n",
      "                                                                 inception-2-pool-2[0][0]         \n",
      "__________________________________________________________________________________________________\n",
      "inception-3-3x3-1 (Conv2D)      (None, 3, 3, 64)     16448       inception-2-concat[0][0]         \n",
      "__________________________________________________________________________________________________\n",
      "inception-3-5x5-1 (Conv2D)      (None, 3, 3, 48)     12336       inception-2-concat[0][0]         \n",
      "__________________________________________________________________________________________________\n",
      "inception-3-pool-1 (MaxPooling2 (None, 3, 3, 256)    0           inception-2-concat[0][0]         \n",
      "__________________________________________________________________________________________________\n",
      "inception-3-1x1 (Conv2D)        (None, 3, 3, 64)     16448       inception-2-concat[0][0]         \n",
      "__________________________________________________________________________________________________\n",
      "inception-3-3x3-2 (Conv2D)      (None, 3, 3, 64)     36928       inception-3-3x3-1[0][0]          \n",
      "__________________________________________________________________________________________________\n",
      "inception-3-5x5-2 (Conv2D)      (None, 3, 3, 64)     76864       inception-3-5x5-1[0][0]          \n",
      "__________________________________________________________________________________________________\n",
      "inception-3-pool-2 (Conv2D)     (None, 3, 3, 64)     16448       inception-3-pool-1[0][0]         \n",
      "__________________________________________________________________________________________________\n",
      "inception-3-concat (Concatenate (None, 3, 3, 256)    0           inception-3-1x1[0][0]            \n",
      "                                                                 inception-3-3x3-2[0][0]          \n",
      "                                                                 inception-3-5x5-2[0][0]          \n",
      "                                                                 inception-3-pool-2[0][0]         \n",
      "__________________________________________________________________________________________________\n",
      "inception-4-3x3-1 (Conv2D)      (None, 3, 3, 64)     16448       inception-3-concat[0][0]         \n",
      "__________________________________________________________________________________________________\n",
      "inception-4-5x5-1 (Conv2D)      (None, 3, 3, 48)     12336       inception-3-concat[0][0]         \n",
      "__________________________________________________________________________________________________\n",
      "inception-4-pool-1 (MaxPooling2 (None, 3, 3, 256)    0           inception-3-concat[0][0]         \n",
      "__________________________________________________________________________________________________\n",
      "inception-4-1x1 (Conv2D)        (None, 3, 3, 64)     16448       inception-3-concat[0][0]         \n",
      "__________________________________________________________________________________________________\n",
      "inception-4-3x3-2 (Conv2D)      (None, 3, 3, 64)     36928       inception-4-3x3-1[0][0]          \n",
      "__________________________________________________________________________________________________\n",
      "inception-4-5x5-2 (Conv2D)      (None, 3, 3, 64)     76864       inception-4-5x5-1[0][0]          \n",
      "__________________________________________________________________________________________________\n",
      "inception-4-pool-2 (Conv2D)     (None, 3, 3, 64)     16448       inception-4-pool-1[0][0]         \n",
      "__________________________________________________________________________________________________\n",
      "inception-4-concat (Concatenate (None, 3, 3, 256)    0           inception-4-1x1[0][0]            \n",
      "                                                                 inception-4-3x3-2[0][0]          \n",
      "                                                                 inception-4-5x5-2[0][0]          \n",
      "                                                                 inception-4-pool-2[0][0]         \n",
      "__________________________________________________________________________________________________\n",
      "flower-globalaverage (GlobalAve (None, 256)          0           inception-4-concat[0][0]         \n",
      "__________________________________________________________________________________________________\n",
      "dropout_6 (Dropout)             (None, 256)          0           flower-globalaverage[0][0]       \n",
      "__________________________________________________________________________________________________\n",
      "dense_15 (Dense)                (None, 10)           2570        dropout_6[0][0]                  \n",
      "==================================================================================================\n",
      "Total params: 861,370\n",
      "Trainable params: 861,370\n",
      "Non-trainable params: 0\n",
      "__________________________________________________________________________________________________\n"
     ]
    }
   ],
   "source": [
    "stem, img_input = create_stem()\n",
    "output = add_inception(stem, count=1)\n",
    "output = add_inception(output, count=2)\n",
    "output = add_inception(output, count=3)\n",
    "output = add_inception(output, count=4)\n",
    "flower = get_flower(output)\n",
    "\n",
    "model = Model(img_input, flower, name='inception_gen')\n",
    "model.compile(loss=\"categorical_crossentropy\", optimizer=\"adam\", metrics=[\"accuracy\"])\n",
    "model.summary()"
   ]
  },
  {
   "cell_type": "markdown",
   "metadata": {},
   "source": [
    "## Training\n",
    "The model will be saved afterwards (and overwritten) as `model.h5`. A tensorboard log will be written. The tensorboard can be started with ```tensorboard --logdir=c:/tmp/logs/``` and visited at [http://michael-laptop:6006](http://michael-laptop:6006/#scalars&tagFilter=acc&regexInput=cifar)"
   ]
  },
  {
   "cell_type": "code",
   "execution_count": 162,
   "metadata": {},
   "outputs": [],
   "source": [
    "from keras.callbacks import EarlyStopping, ModelCheckpoint, TensorBoard\n",
    "model_path = \"model_checkpoint.h5\"\n",
    "\n",
    "cbs = [\n",
    "    TensorBoard(log_dir=\"C:/tmp/logs/{}\".format(time())),\n",
    "    EarlyStopping(monitor=\"val_acc\", patience=20),\n",
    "    ModelCheckpoint(model_path, monitor=\"val_acc\", save_best_only=True, save_weights_only=False)\n",
    "]"
   ]
  },
  {
   "cell_type": "code",
   "execution_count": null,
   "metadata": {},
   "outputs": [],
   "source": [
    "run_name = \"cifar10-{}\".format(time())\n",
    "tensorboard = TensorBoard(log_dir=\"C:/tmp/logs/{}\".format(run_name))\n",
    "print(\"Starting run {} \".format(run_name))\n",
    "                          \n",
    "model.fit(x_train, y_train, epochs=10, batch_size=1000, validation_data=[x_test, y_test], callbacks=cbs)\n",
    "model.save(\"model.h5\")"
   ]
  },
  {
   "cell_type": "markdown",
   "metadata": {},
   "source": [
    "## Model persistence"
   ]
  },
  {
   "cell_type": "code",
   "execution_count": 95,
   "metadata": {},
   "outputs": [],
   "source": [
    "model.save(\"custom.h5\")"
   ]
  },
  {
   "cell_type": "code",
   "execution_count": 105,
   "metadata": {},
   "outputs": [],
   "source": [
    "model = load_model(\"model.h5\")"
   ]
  },
  {
   "cell_type": "markdown",
   "metadata": {},
   "source": [
    "## Validation"
   ]
  },
  {
   "cell_type": "code",
   "execution_count": null,
   "metadata": {},
   "outputs": [],
   "source": []
  }
 ],
 "metadata": {
  "kernelspec": {
   "display_name": "Python 3",
   "language": "python",
   "name": "python3"
  },
  "language_info": {
   "codemirror_mode": {
    "name": "ipython",
    "version": 3
   },
   "file_extension": ".py",
   "mimetype": "text/x-python",
   "name": "python",
   "nbconvert_exporter": "python",
   "pygments_lexer": "ipython3",
   "version": "3.6.5"
  }
 },
 "nbformat": 4,
 "nbformat_minor": 2
}
